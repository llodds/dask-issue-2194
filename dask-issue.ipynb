{
 "cells": [
  {
   "cell_type": "code",
   "execution_count": null,
   "id": "8f1fb377",
   "metadata": {
    "hideCode": false,
    "hidePrompt": false
   },
   "outputs": [],
   "source": [
    "import numpy as np\n",
    "import sys\n",
    "import time\n",
    "from dask.distributed import as_completed"
   ]
  },
  {
   "cell_type": "code",
   "execution_count": null,
   "id": "de57f8ee-e7d1-4c8f-a9c5-c5b8f3a0a645",
   "metadata": {},
   "outputs": [],
   "source": [
    "class Model:\n",
    "    def __init__(\n",
    "        self,\n",
    "        bc=0,\n",
    "        courant=0.3,\n",
    "    ):\n",
    "        self.bc = bc\n",
    "        self.courant = courant"
   ]
  },
  {
   "cell_type": "code",
   "execution_count": null,
   "id": "ffaf32b1-c695-4eb0-80c2-db625ac31c6b",
   "metadata": {},
   "outputs": [],
   "source": [
    "def process_one_shot(model, dm_in):\n",
    "    time.sleep(60)\n",
    "    imgglobal=np.ones([100, 100, 100])\n",
    "    return imgglobal\n",
    "\n",
    "def process_many_shots_using_dask(client, model, dm_in):\n",
    "    imgglobal=np.zeros([100, 100, 100])\n",
    "    dm_in_future = client.scatter(dm_in)\n",
    "    nshots = 50\n",
    "    \n",
    "    futures = []\n",
    "    for i in range(0, nshots):\n",
    "        futures.append(client.submit(process_one_shot, model, dm_in_future))\n",
    "    seq = as_completed(futures)\n",
    "    while seq.count() > 1:\n",
    "        a = next(seq)\n",
    "        b = next(seq)\n",
    "        new = client.submit(np.add, a, b)\n",
    "        seq.add(new)\n",
    "\n",
    "    imgglobal = np.add(imgglobal, next(seq).result())\n",
    "    imgglobal /= nshots\n",
    "    return imgglobal"
   ]
  },
  {
   "cell_type": "code",
   "execution_count": null,
   "id": "b6a0fd3b",
   "metadata": {},
   "outputs": [],
   "source": [
    "# from dask.distributed import Client, LocalCluster\n",
    "# # cluster = LocalCluster(n_workers = 4, threads_per_worker = 1) # works - first round every worker gets at least 1 task\n",
    "# cluster = LocalCluster(n_workers = 4) # not work - first round only one worker gets 50 tasks\n",
    "# client = Client(cluster)\n",
    "# client"
   ]
  },
  {
   "cell_type": "code",
   "execution_count": null,
   "id": "3d1828df-8ec7-47b0-88c1-9731591c8460",
   "metadata": {},
   "outputs": [],
   "source": [
    "import env_modules_python as lmod\n",
    "lmod.module('load', 'sge')\n",
    "from dask_jobqueue import SGECluster\n",
    "from dask.distributed import Client\n",
    "cluster = SGECluster(\n",
    "    nanny = False,\n",
    "    processes = 1,  # number of workers per job\n",
    "    cores = 1,      # make sure nthreads == 1, each dask worker forks one thread\n",
    "    scheduler_options = dict(dashboard_address=':0'),\n",
    "    job_extra_directives = ['-pe {} {}'.format('sapphirerapids', 112),\n",
    "                            '-cwd',\n",
    "                            '-S /bin/csh',\n",
    "                            '-j y',\n",
    "                            '-o /dev/null'],\n",
    "    job_script_prologue=['module load conda', \n",
    "                         'conda activate intel-2021', \n",
    "                         f'setenv OMP_NUM_THREADS {24}'],\n",
    "    memory = '600 GiB',\n",
    "    project = 'hpcteam',\n",
    "    walltime = '00:29:58'\n",
    ")\n",
    "client = Client(cluster)\n",
    "# when scale to 10 workers/nodes, every worker gets at least one task in the first round;\n",
    "# when scale to 25 workers/nodes, only one worker gets all tasks in the first round\n",
    "cluster.scale(25) \n",
    "client.wait_for_workers(25)\n",
    "client"
   ]
  },
  {
   "cell_type": "code",
   "execution_count": null,
   "id": "d8d66dc5-50ec-4b3b-95e5-2e69799113fc",
   "metadata": {},
   "outputs": [],
   "source": [
    "model = Model(30, courant = 0.35)\n",
    "nxmodel = 1271\n",
    "nymodel = 1299\n",
    "nzmodel = 675\n",
    "dm_in = np.zeros([nxmodel,nymodel,nzmodel])\n",
    "image_up_dev = np.zeros([nxmodel,nymodel,nzmodel]) \n",
    "niter=10\n",
    "for k in range(niter):\n",
    "    dm_in= image_up_dev\n",
    "    print('Iteration',k+1)\n",
    "    imgglobal = process_many_shots_using_dask(client, model, dm_in)"
   ]
  },
  {
   "cell_type": "code",
   "execution_count": null,
   "id": "8e02f0a6",
   "metadata": {
    "hidePrompt": true
   },
   "outputs": [],
   "source": []
  }
 ],
 "metadata": {
  "hide_code_all_hidden": false,
  "kernelspec": {
   "display_name": "(intel-2021) Python 3 (ipykernel)",
   "language": "python",
   "name": "conda-env-intel-2021-py"
  },
  "language_info": {
   "codemirror_mode": {
    "name": "ipython",
    "version": 3
   },
   "file_extension": ".py",
   "mimetype": "text/x-python",
   "name": "python",
   "nbconvert_exporter": "python",
   "pygments_lexer": "ipython3",
   "version": "3.8.12"
  }
 },
 "nbformat": 4,
 "nbformat_minor": 5
}
